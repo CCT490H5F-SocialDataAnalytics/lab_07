{
 "cells": [
  {
   "cell_type": "markdown",
   "metadata": {},
   "source": [
    "# Lab 07 - Social Network Analysis\n",
    "\n",
    "Social network analysis is a type of analysis which interprets, analyzes, and visualises *relational* data. Instead of beginning from the person or tweet as the unit of analysis, with social network analysis (or SNA) we begin from the relationship between the two.\n",
    "\n",
    "The building blocks of a network are *nodes* and *edges*. Nodes represent individuals in the network. They are people, tweets, firms, Twitter users, etc. They are the thing doing the interaction.\n",
    "\n",
    "![](img/net-1-node.png)\n",
    "\n",
    "The connection between nodes are called *edges*. They imply some kind of relationship between the edges. This interaction could be friendship, mutual attendance of an event, dating, or has done business with.\n",
    "\n",
    "![](img/net-1-edge.png)\n",
    "\n",
    "Edges can be *directed* or *undirected*. For instance, on Facebook, friendships are mutual and both parties must agree to that friendship. Therefore, it is called *undirected* because it is by definition a two-way relationship. However, on Twitter, user A can follow user B, but user B does not have to follow user A. This is called a *directed* graph because it can be a one-way relationship. \n",
    "\n",
    "\n",
    "Lastly, edges can be *weighted*. Weights are usually numerical values which indicate a strength of a relationship. The edge between you and your best friend is probably higher than you and one of your classmates who you do not speak to often."
   ]
  },
  {
   "cell_type": "markdown",
   "metadata": {},
   "source": [
    "![](http://evelinag.com/blog/2015/12-15-star-wars-social-network/star-wars-logo.png)\n",
    "\n",
    "In this lab we will be using a small network that indicates [interactions in the movie Star Wars Episode IV](http://evelinag.com/blog/2015/12-15-star-wars-social-network/). Here, each node is a character and each edge indicates whether they appeared together in a scene of the movie. Edges here are thus undirected and they also have weights attached, since they can appear in multiple scenes together.\n",
    "\n",
    "The first step is to read the list of edges in this network. For this exercise, we are going to use the <code>[networkx](https://networkx.github.io/)</code> module to read, analyse, and visualise the networks. "
   ]
  },
  {
   "cell_type": "code",
   "execution_count": null,
   "metadata": {
    "collapsed": true
   },
   "outputs": [],
   "source": [
    "import networkx as nx"
   ]
  },
  {
   "cell_type": "markdown",
   "metadata": {},
   "source": [
    "We will also use the <code>matplotlib</code> module for visualisation."
   ]
  },
  {
   "cell_type": "code",
   "execution_count": null,
   "metadata": {
    "collapsed": true
   },
   "outputs": [],
   "source": [
    "import matplotlib\n",
    "import matplotlib.pyplot as plt\n",
    "%matplotlib inline"
   ]
  },
  {
   "cell_type": "markdown",
   "metadata": {},
   "source": [
    "We can read in the network as a weighted edgelist. This is a CSV file in the format of <code>node1, node2, weight</code>. "
   ]
  },
  {
   "cell_type": "code",
   "execution_count": null,
   "metadata": {
    "collapsed": false
   },
   "outputs": [],
   "source": [
    "G = nx.read_weighted_edgelist('data/star-wars-network-edges.csv', delimiter = \",\")"
   ]
  },
  {
   "cell_type": "markdown",
   "metadata": {},
   "source": [
    "We can use a method to see all the edges in the network."
   ]
  },
  {
   "cell_type": "code",
   "execution_count": null,
   "metadata": {
    "collapsed": false
   },
   "outputs": [],
   "source": [
    "G.edges()"
   ]
  },
  {
   "cell_type": "markdown",
   "metadata": {},
   "source": [
    "And we can use a similar one to see all the nodes."
   ]
  },
  {
   "cell_type": "code",
   "execution_count": null,
   "metadata": {
    "collapsed": false
   },
   "outputs": [],
   "source": [
    "G.nodes()"
   ]
  },
  {
   "cell_type": "markdown",
   "metadata": {},
   "source": [
    "To see a specific attribute of an edge, we need to use <code>get_edge_attributes</code>. Who seems to have the highest weight in their interactions?"
   ]
  },
  {
   "cell_type": "code",
   "execution_count": null,
   "metadata": {
    "collapsed": false
   },
   "outputs": [],
   "source": [
    "nx.get_edge_attributes(G, 'weight')"
   ]
  },
  {
   "cell_type": "markdown",
   "metadata": {},
   "source": [
    "Now we're ready to draw. We're going to play with two layouts. The first is a \"circular\" layout, which is useful because we can see all the nodes and the connections between them. However, with this layout, we have a harder time seeing what groups of nodes seem to cluster together.\n",
    "\n",
    "The second layout is called \"Fruchterman-Reingold\". It is a \"force-directed\" layout, which implies that if subnetworks seem to be tied closer together, they squeeze together more in the graph. Let's play with both."
   ]
  },
  {
   "cell_type": "code",
   "execution_count": null,
   "metadata": {
    "collapsed": false
   },
   "outputs": [],
   "source": [
    "#pos = nx.circular_layout(G, scale = 2)\n",
    "pos = nx.fruchterman_reingold_layout(G)"
   ]
  },
  {
   "cell_type": "markdown",
   "metadata": {},
   "source": [
    "In addition changing layout, we also need to display the weight of the edge. We can do this by setting some levels for line weights. We can have three: small, mid, and large. \n",
    "\n",
    "Lastly, we can set the colours of nodes based on whether the person is on the light side, the dark side, or is other. "
   ]
  },
  {
   "cell_type": "code",
   "execution_count": null,
   "metadata": {
    "collapsed": false
   },
   "outputs": [],
   "source": [
    "## select edges by weight\n",
    "esmall = [(u,v) for (u,v,d) in G.edges(data = True) if d['weight']  < 5]\n",
    "emid   = [(u,v) for (u,v,d) in G.edges(data = True) if d['weight'] >= 5 and d['weight'] < 10 ]\n",
    "elarge = [(u,v) for (u,v,d) in G.edges(data = True) if d['weight'] >= 10]\n",
    "\n",
    "## draw edges in varying edge widths\n",
    "nx.draw_networkx_edges(G, pos, edgelist = elarge, width = 4, alpha = 0.5)\n",
    "nx.draw_networkx_edges(G, pos, edgelist = emid,   width = 2, alpha = 0.5)\n",
    "nx.draw_networkx_edges(G, pos, edgelist = esmall, width = 1, alpha = 0.5)\n",
    "\n",
    "## select nodes by light side / dark side / other\n",
    "dark_side = [\"DARTH VADER\", \"MOTTI\", \"TARKIN\"]\n",
    "light_side = [\"R2-D2\", \"CHEWBACCA\", \"C-3PO\", \"LUKE\", \"CAMIE\", \"BIGGS\",\n",
    "                \"LEIA\", \"BERU\", \"OWEN\", \"OBI-WAN\", \"HAN\", \"DODONNA\",\n",
    "                \"GOLD LEADER\", \"WEDGE\", \"RED LEADER\", \"RED TEN\"]\n",
    "other = [\"GREEDO\", \"JABBA\"]\n",
    "\n",
    "## draw the nodes\n",
    "nx.draw_networkx_nodes(G, pos, node_color = 'red', nodelist = dark_side)\n",
    "nx.draw_networkx_nodes(G, pos, node_color = 'blue', nodelist = light_side)\n",
    "nx.draw_networkx_nodes(G, pos, node_color = 'gray', nodelist = other)\n",
    "nx.draw_networkx_labels(G, pos)\n",
    "\n",
    "plt.axis('off')"
   ]
  },
  {
   "cell_type": "markdown",
   "metadata": {},
   "source": [
    "In addition to graphing, we can create some network-level statistics which characterize the network. This includes *density*, which measures how many of the possible connections in this network have been made. If density equals 1, that would imply that everyone in the movie had a scene with everyone else."
   ]
  },
  {
   "cell_type": "code",
   "execution_count": null,
   "metadata": {
    "collapsed": false
   },
   "outputs": [],
   "source": [
    "nx.density(G)"
   ]
  },
  {
   "cell_type": "markdown",
   "metadata": {},
   "source": [
    "Lastly, there are node-level statistics which characterize individual nodes. One of the more important one of these is *degree*, which means how many edges are connected to this particular node. Which nodes seem to have the highest degree?"
   ]
  },
  {
   "cell_type": "code",
   "execution_count": null,
   "metadata": {
    "collapsed": false
   },
   "outputs": [],
   "source": [
    "nx.degree(G)"
   ]
  }
 ],
 "metadata": {
  "anaconda-cloud": {},
  "kernelspec": {
   "display_name": "Python [Root]",
   "language": "python",
   "name": "Python [Root]"
  },
  "language_info": {
   "codemirror_mode": {
    "name": "ipython",
    "version": 3
   },
   "file_extension": ".py",
   "mimetype": "text/x-python",
   "name": "python",
   "nbconvert_exporter": "python",
   "pygments_lexer": "ipython3",
   "version": "3.5.2"
  }
 },
 "nbformat": 4,
 "nbformat_minor": 0
}
